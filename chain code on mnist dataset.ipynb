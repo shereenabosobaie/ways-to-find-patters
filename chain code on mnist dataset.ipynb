{
  "nbformat": 4,
  "nbformat_minor": 0,
  "metadata": {
    "colab": {
      "provenance": [],
      "gpuType": "T4"
    },
    "kernelspec": {
      "name": "python3",
      "display_name": "Python 3"
    },
    "language_info": {
      "name": "python"
    }
  },
  "cells": [
    {
      "cell_type": "code",
      "execution_count": null,
      "metadata": {
        "id": "hGMvuZk5VPMp"
      },
      "outputs": [],
      "source": [
        "import tensorflow as tf\n",
        "from tensorflow import keras\n",
        "from tensorflow.keras import datasets, layers, models\n",
        "import matplotlib.pyplot as plt\n",
        "from sklearn.metrics import confusion_matrix, precision_score, recall_score, f1_score\n",
        "import numpy as np\n",
        "from sklearn.datasets import fetch_openml"
      ]
    },
    {
      "cell_type": "code",
      "source": [
        "(xtrain,ytrain),(xtest,ytest)= keras.datasets.mnist.load_data()\n",
        "xtrain =np.where(xtrain>1,255,0)\n",
        "xtrain"
      ],
      "metadata": {
        "id": "Z8IdUFyfVryR",
        "colab": {
          "base_uri": "https://localhost:8080/"
        },
        "outputId": "ca68c5ea-cd6b-4f3d-8d1f-e953f311c5e8"
      },
      "execution_count": null,
      "outputs": [
        {
          "output_type": "execute_result",
          "data": {
            "text/plain": [
              "array([[[0, 0, 0, ..., 0, 0, 0],\n",
              "        [0, 0, 0, ..., 0, 0, 0],\n",
              "        [0, 0, 0, ..., 0, 0, 0],\n",
              "        ...,\n",
              "        [0, 0, 0, ..., 0, 0, 0],\n",
              "        [0, 0, 0, ..., 0, 0, 0],\n",
              "        [0, 0, 0, ..., 0, 0, 0]],\n",
              "\n",
              "       [[0, 0, 0, ..., 0, 0, 0],\n",
              "        [0, 0, 0, ..., 0, 0, 0],\n",
              "        [0, 0, 0, ..., 0, 0, 0],\n",
              "        ...,\n",
              "        [0, 0, 0, ..., 0, 0, 0],\n",
              "        [0, 0, 0, ..., 0, 0, 0],\n",
              "        [0, 0, 0, ..., 0, 0, 0]],\n",
              "\n",
              "       [[0, 0, 0, ..., 0, 0, 0],\n",
              "        [0, 0, 0, ..., 0, 0, 0],\n",
              "        [0, 0, 0, ..., 0, 0, 0],\n",
              "        ...,\n",
              "        [0, 0, 0, ..., 0, 0, 0],\n",
              "        [0, 0, 0, ..., 0, 0, 0],\n",
              "        [0, 0, 0, ..., 0, 0, 0]],\n",
              "\n",
              "       ...,\n",
              "\n",
              "       [[0, 0, 0, ..., 0, 0, 0],\n",
              "        [0, 0, 0, ..., 0, 0, 0],\n",
              "        [0, 0, 0, ..., 0, 0, 0],\n",
              "        ...,\n",
              "        [0, 0, 0, ..., 0, 0, 0],\n",
              "        [0, 0, 0, ..., 0, 0, 0],\n",
              "        [0, 0, 0, ..., 0, 0, 0]],\n",
              "\n",
              "       [[0, 0, 0, ..., 0, 0, 0],\n",
              "        [0, 0, 0, ..., 0, 0, 0],\n",
              "        [0, 0, 0, ..., 0, 0, 0],\n",
              "        ...,\n",
              "        [0, 0, 0, ..., 0, 0, 0],\n",
              "        [0, 0, 0, ..., 0, 0, 0],\n",
              "        [0, 0, 0, ..., 0, 0, 0]],\n",
              "\n",
              "       [[0, 0, 0, ..., 0, 0, 0],\n",
              "        [0, 0, 0, ..., 0, 0, 0],\n",
              "        [0, 0, 0, ..., 0, 0, 0],\n",
              "        ...,\n",
              "        [0, 0, 0, ..., 0, 0, 0],\n",
              "        [0, 0, 0, ..., 0, 0, 0],\n",
              "        [0, 0, 0, ..., 0, 0, 0]]])"
            ]
          },
          "metadata": {},
          "execution_count": 122
        }
      ]
    },
    {
      "cell_type": "code",
      "source": [
        "from matplotlib import pyplot as plt\n",
        "\n",
        "# Example: Plot the first training image\n",
        "plt.imshow(xtrain[1555], cmap='gray')\n",
        "plt.axis('off')  # Hide axes\n",
        "plt.show()"
      ],
      "metadata": {
        "colab": {
          "base_uri": "https://localhost:8080/",
          "height": 406
        },
        "id": "5DT7MYHAB83V",
        "outputId": "0daa0133-269c-45ae-fef5-03ade0a5a259"
      },
      "execution_count": null,
      "outputs": [
        {
          "output_type": "display_data",
          "data": {
            "text/plain": [
              "<Figure size 640x480 with 1 Axes>"
            ],
            "image/png": "[encoded data removed]"
          },
          "metadata": {}
        }
      ]
    },
    {
      "cell_type": "code",
      "source": [
        "import math"
      ],
      "metadata": {
        "id": "lPd9b7642evf"
      },
      "execution_count": null,
      "outputs": []
    },
    {
      "cell_type": "code",
      "source": [
        "def code (image ,i,j,pr):\n",
        "  n= [\n",
        "        [i+0,j-1],\n",
        "        [i-1,j-1],\n",
        "        [i-1,j+0],\n",
        "        [i-1,j+1],\n",
        "        [i+0,j+1],\n",
        "        [i+1,j+1],\n",
        "        [i+1,j+0],\n",
        "        [i+1,j-1]\n",
        "    ]\n",
        "  d=(pr+1)%8\n",
        "  while d!=pr:\n",
        "    if (n[d][0]<28 and n[d][1]<28) and image[n[d][0]][n[d][1]]==255:\n",
        "      return n[d][0],n[d][1],(d+4)%8\n",
        "    d=(d+1)%8\n",
        "  return None,None, (d+4) % 8"
      ],
      "metadata": {
        "id": "zn2a9PQ4yGHR"
      },
      "execution_count": null,
      "outputs": []
    },
    {
      "cell_type": "code",
      "source": [
        "def start(image):\n",
        "    for i in range(28):\n",
        "        for j in range(28):\n",
        "            if image[i][j]==255:\n",
        "               return i,j"
      ],
      "metadata": {
        "id": "JkYCVmOdlZRk"
      },
      "execution_count": null,
      "outputs": []
    },
    {
      "cell_type": "code",
      "source": [
        "def roinv(co):\n",
        "  dco=[]\n",
        "  for x in range(len(co)):\n",
        "    a=co[x-1]-co[x]\n",
        "    if a<=0: dco.append(abs(a))\n",
        "    else: dco.append(8-a)\n",
        "  return dco"
      ],
      "metadata": {
        "id": "roleKwiyZMsb"
      },
      "execution_count": null,
      "outputs": []
    },
    {
      "cell_type": "code",
      "source": [
        "def mn(dco):\n",
        "  m=min(dco)\n",
        "  l=[]\n",
        "  count=1\n",
        "  for x in range (len(dco)):\n",
        "    if dco[x]==m: l.append(x)\n",
        "  while len(l)!=1:\n",
        "    mi=20\n",
        "    dd=[]\n",
        "    for x in l:\n",
        "      mi=min(dco[(x+count)%(len(dco))],mi)\n",
        "    for x in l:\n",
        "      if dco[(x+count)%(len(dco))]==mi:dd.append(x)\n",
        "    l=np.copy(dd)\n",
        "    count+=1\n",
        "    if(count>=len(dco)-1):break\n",
        "  ff=dco[-l[0]:] + dco[:-l[0]]\n",
        "  si=len(dco)\n",
        "  e=np.zeros(170-si)\n",
        "  return np.concatenate((dco,e))"
      ],
      "metadata": {
        "id": "q_GIB2nRx8un"
      },
      "execution_count": null,
      "outputs": []
    },
    {
      "cell_type": "code",
      "source": [
        "def finalcode (image):\n",
        "  si,sj=start(image)\n",
        "  p=0\n",
        "  co=[]\n",
        "  ind=[]\n",
        "  i,j=si,sj\n",
        "  while True:\n",
        "    #ind.append([i,j])\n",
        "    i,j,p=code(image,i,j,p)\n",
        "    co.append((p+4)%8)\n",
        "    if si==i and sj==j:\n",
        "      break\n",
        "    if i is None:\n",
        "          break\n",
        "  dco=mn(co)\n",
        "  si=len(dco)\n",
        "  e=np.ones(170-si)*-1\n",
        "  return np.concatenate((dco,e))"
      ],
      "metadata": {
        "id": "2Xy9KB1xRopo"
      },
      "execution_count": null,
      "outputs": []
    },
    {
      "cell_type": "code",
      "source": [
        "X = np.array([finalcode(xtrain[i]) for i in range(len(xtrain))])\n",
        "X.shape"
      ],
      "metadata": {
        "id": "5IHkhSdby7ns",
        "colab": {
          "base_uri": "https://localhost:8080/"
        },
        "outputId": "d63fead2-3e45-4ffe-dec0-51ab9503100e"
      },
      "execution_count": null,
      "outputs": [
        {
          "output_type": "execute_result",
          "data": {
            "text/plain": [
              "(60000, 170)"
            ]
          },
          "metadata": {},
          "execution_count": 130
        }
      ]
    },
    {
      "cell_type": "code",
      "source": [
        "def fode (image):\n",
        "  si,sj=start(image)\n",
        "  p=0\n",
        "  co=[]\n",
        "  ind=[]\n",
        "  i,j=si,sj\n",
        "  count=1\n",
        "  while True:\n",
        "    ind.append([i,j])\n",
        "    i,j,p=code(image,i,j,p)\n",
        "    co.append((p+4)%8)\n",
        "    if si==i and sj==j:\n",
        "      break\n",
        "    if i is None:\n",
        "            break\n",
        "  return ind"
      ],
      "metadata": {
        "id": "8timhoQ_252v"
      },
      "execution_count": null,
      "outputs": []
    },
    {
      "cell_type": "code",
      "source": [
        "border=fode(xtrain[89])\n",
        "plt.imshow(xtrain[89], cmap='Greys')\n",
        "plt.plot([i[1] for i in border], [i[0] for i in border])"
      ],
      "metadata": {
        "colab": {
          "base_uri": "https://localhost:8080/",
          "height": 448
        },
        "id": "XGwcaEkT2-Bn",
        "outputId": "e747b999-20f3-4452-8b75-c4fe4a227373"
      },
      "execution_count": null,
      "outputs": [
        {
          "output_type": "execute_result",
          "data": {
            "text/plain": [
              "[<matplotlib.lines.Line2D at 0x79f6ec0bec50>]"
            ]
          },
          "metadata": {},
          "execution_count": 132
        },
        {
          "output_type": "display_data",
          "data": {
            "text/plain": [
              "<Figure size 640x480 with 1 Axes>"
            ],
            "image/png": "[encoded data removed]"
          },
          "metadata": {}
        }
      ]
    },
    {
      "cell_type": "code",
      "source": [
        "from sklearn.model_selection import train_test_split\n",
        "X_train_blocks,X_test_blocks,Y_train_blocks,Y_test_blocks = train_test_split(X,ytrain,test_size=0.2,random_state=1)"
      ],
      "metadata": {
        "id": "McpumsVjtvil"
      },
      "execution_count": null,
      "outputs": []
    },
    {
      "cell_type": "code",
      "source": [
        "from sklearn.neighbors import KNeighborsClassifier\n",
        "knn = KNeighborsClassifier()\n",
        "knn.fit(X_train_blocks,Y_train_blocks)\n",
        "y_pred= knn.predict(X_test_blocks)"
      ],
      "metadata": {
        "id": "hs_KTOgXtrLh"
      },
      "execution_count": null,
      "outputs": []
    },
    {
      "cell_type": "code",
      "source": [
        "from sklearn.metrics import accuracy_score\n",
        "accuracy = accuracy_score(Y_test_blocks, y_pred)\n",
        "print(f\"Accuracy : {accuracy:.4f}\")"
      ],
      "metadata": {
        "id": "5XTUoKcv3sW8",
        "colab": {
          "base_uri": "https://localhost:8080/"
        },
        "outputId": "f925ffd4-a777-4523-ca9c-584376e41f8f"
      },
      "execution_count": null,
      "outputs": [
        {
          "output_type": "stream",
          "name": "stdout",
          "text": [
            "Accuracy : 0.8468\n"
          ]
        }
      ]
    },
    {
      "cell_type": "code",
      "source": [
        "from sklearn.svm import SVC\n",
        "svm = SVC()\n",
        "svm.fit(X_train_blocks, Y_train_blocks)\n",
        "\n",
        "# Make predictions on test data\n",
        "y_pred = svm.predict(X_test_blocks)\n"
      ],
      "metadata": {
        "id": "WKQdlRQY35QB"
      },
      "execution_count": null,
      "outputs": []
    },
    {
      "cell_type": "code",
      "source": [
        "from sklearn.metrics import accuracy_score\n",
        "accuracy = accuracy_score(Y_test_blocks, y_pred)\n",
        "print(f\"Accuracy : {accuracy:.4f}\")"
      ],
      "metadata": {
        "id": "62Kf9nUL4J1T",
        "colab": {
          "base_uri": "https://localhost:8080/"
        },
        "outputId": "fa2cbe76-e609-4ae1-b22b-808a35b40978"
      },
      "execution_count": null,
      "outputs": [
        {
          "output_type": "stream",
          "name": "stdout",
          "text": [
            "Accuracy : 0.8718\n"
          ]
        }
      ]
    },
    {
      "cell_type": "code",
      "source": [
        "from sklearn.ensemble import RandomForestClassifier\n",
        "rf_classifier = RandomForestClassifier()\n",
        "\n",
        "# Fit the model to the data\n",
        "rf_classifier.fit(X_train_blocks, Y_train_blocks)\n",
        "\n",
        "y_pred = rf_classifier.predict(X_test_blocks)\n",
        "# Evaluate the model's accuracy\n",
        "accuracy = accuracy_score(Y_test_blocks, y_pred)\n",
        "print(f\"Accuracy: {accuracy:.4f}\")"
      ],
      "metadata": {
        "colab": {
          "base_uri": "https://localhost:8080/"
        },
        "id": "CbVs7_nmRq-G",
        "outputId": "2f2ca620-d505-4c5b-bfc9-76690e3a59fe"
      },
      "execution_count": null,
      "outputs": [
        {
          "output_type": "stream",
          "name": "stdout",
          "text": [
            "Accuracy: 0.9237\n"
          ]
        }
      ]
    }
  ]
}
