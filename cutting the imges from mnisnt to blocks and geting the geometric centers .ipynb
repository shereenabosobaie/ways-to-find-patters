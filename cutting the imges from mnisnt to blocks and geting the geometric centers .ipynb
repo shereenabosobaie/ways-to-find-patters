{
  "nbformat": 4,
  "nbformat_minor": 0,
  "metadata": {
    "colab": {
      "provenance": [],
      "gpuType": "T4"
    },
    "kernelspec": {
      "name": "python3",
      "display_name": "Python 3"
    },
    "language_info": {
      "name": "python"
    }
  },
  "cells": [
    {
      "cell_type": "code",
      "execution_count": null,
      "metadata": {
        "id": "hGMvuZk5VPMp"
      },
      "outputs": [],
      "source": [
        "import tensorflow as tf\n",
        "from tensorflow import keras\n",
        "from tensorflow.keras import datasets, layers, models\n",
        "import matplotlib.pyplot as plt\n",
        "from sklearn.metrics import confusion_matrix, precision_score, recall_score, f1_score\n",
        "import numpy as np\n",
        "from sklearn.datasets import fetch_openml"
      ]
    },
    {
      "cell_type": "code",
      "source": [
        "(xtrain,ytrain),(xtest,ytest)= keras.datasets.mnist.load_data()"
      ],
      "metadata": {
        "id": "Z8IdUFyfVryR",
        "colab": {
          "base_uri": "https://localhost:8080/"
        },
        "outputId": "6c9b29b6-75b1-4530-90db-bbbfc87e5cea"
      },
      "execution_count": null,
      "outputs": [
        {
          "output_type": "stream",
          "name": "stdout",
          "text": [
            "Downloading data from https://storage.googleapis.com/tensorflow/tf-keras-datasets/mnist.npz\n",
            "11490434/11490434 [==============================] - 0s 0us/step\n"
          ]
        }
      ]
    },
    {
      "cell_type": "code",
      "source": [
        "num1 = int(input())\n",
        "num2 = int(input())"
      ],
      "metadata": {
        "colab": {
          "base_uri": "https://localhost:8080/"
        },
        "id": "5lQ1bODQj2Ev",
        "outputId": "8f22a6b7-f518-48ce-c11a-ebdfc3a463e4"
      },
      "execution_count": null,
      "outputs": [
        {
          "name": "stdout",
          "output_type": "stream",
          "text": [
            "9\n",
            "9\n"
          ]
        }
      ]
    },
    {
      "cell_type": "code",
      "source": [
        "import math"
      ],
      "metadata": {
        "id": "lPd9b7642evf"
      },
      "execution_count": null,
      "outputs": []
    },
    {
      "cell_type": "code",
      "source": [
        "def cc(b):\n",
        "    x,y=0,0\n",
        "    sum=np.sum(b)\n",
        "    if sum==0:\n",
        "      return 0\n",
        "    row, col = b.shape\n",
        "    for i in range(row):\n",
        "       for j in range(col):\n",
        "          x+=b[i][j]*(i+1)\n",
        "          y+=b[i][j]*(j+1)\n",
        "    x=math.ceil(x/sum)\n",
        "    y=math.ceil(y/sum)\n",
        "    return b[x-1][y-1]\n"
      ],
      "metadata": {
        "id": "_efcSCy1yazz"
      },
      "execution_count": null,
      "outputs": []
    },
    {
      "cell_type": "code",
      "source": [
        "def center(image,n1,n2):\n",
        "    c = []\n",
        "    for i in range(0, 28, int(28/n1)):\n",
        "        for j in range(0, 28, int(28/n2)):\n",
        "            if (j+2*int(28/n2)>28 and i+2*int(28/n1)>28) : block = image[i:28, j:28]\n",
        "            elif (j+2*int(28/n2)>28) : block = image[i:i+ int(28/n1), j:28]\n",
        "            elif (i+2*int(28/n1)>28): block = image[i:28, j:j+ int(28/n2)]\n",
        "            else: block = image[i:i+ int(28/n1), j:j+ int(28/n2)]\n",
        "            c.append(cc(block))\n",
        "\n",
        "    return c"
      ],
      "metadata": {
        "id": "JkYCVmOdlZRk"
      },
      "execution_count": null,
      "outputs": []
    },
    {
      "cell_type": "code",
      "source": [
        "X = np.array([center(xtrain[i],num1,num2) for i in range(len(xtrain))])\n",
        "X.shape"
      ],
      "metadata": {
        "colab": {
          "base_uri": "https://localhost:8080/"
        },
        "id": "5IHkhSdby7ns",
        "outputId": "7a5724e4-93a6-4e3d-d39e-9ae54b149853"
      },
      "execution_count": null,
      "outputs": [
        {
          "output_type": "execute_result",
          "data": {
            "text/plain": [
              "(60000, 100)"
            ]
          },
          "metadata": {},
          "execution_count": 7
        }
      ]
    },
    {
      "cell_type": "code",
      "source": [
        "from sklearn.model_selection import train_test_split\n",
        "X_train_blocks,X_test_blocks,Y_train_blocks,Y_test_blocks = train_test_split(X,ytrain,test_size=0.2,random_state=10)"
      ],
      "metadata": {
        "id": "McpumsVjtvil"
      },
      "execution_count": null,
      "outputs": []
    },
    {
      "cell_type": "code",
      "source": [
        "from sklearn.neighbors import KNeighborsClassifier\n",
        "knn = KNeighborsClassifier(n_neighbors=5)\n",
        "knn.fit(X_train_blocks,Y_train_blocks)\n",
        "y_pred= knn.predict(X_test_blocks)"
      ],
      "metadata": {
        "id": "hs_KTOgXtrLh"
      },
      "execution_count": null,
      "outputs": []
    },
    {
      "cell_type": "code",
      "source": [
        "from sklearn.metrics import accuracy_score\n",
        "accuracy = accuracy_score(Y_test_blocks, y_pred)\n",
        "print(f\"Accuracy : {accuracy:.4f}\")"
      ],
      "metadata": {
        "colab": {
          "base_uri": "https://localhost:8080/"
        },
        "id": "5XTUoKcv3sW8",
        "outputId": "59095671-a3bf-49e3-fb62-c2ba231042ea"
      },
      "execution_count": null,
      "outputs": [
        {
          "output_type": "stream",
          "name": "stdout",
          "text": [
            "Accuracy : 0.9286\n"
          ]
        }
      ]
    },
    {
      "cell_type": "code",
      "source": [
        "from sklearn.svm import SVC\n",
        "svm = SVC()\n",
        "svm.fit(X_train_blocks, Y_train_blocks)\n",
        "\n",
        "# Make predictions on test data\n",
        "y_pred = svm.predict(X_test_blocks)\n"
      ],
      "metadata": {
        "id": "WKQdlRQY35QB"
      },
      "execution_count": null,
      "outputs": []
    },
    {
      "cell_type": "code",
      "source": [
        "from sklearn.metrics import accuracy_score\n",
        "accuracy = accuracy_score(Y_test_blocks, y_pred)\n",
        "print(f\"Accuracy : {accuracy:.4f}\")"
      ],
      "metadata": {
        "colab": {
          "base_uri": "https://localhost:8080/"
        },
        "id": "62Kf9nUL4J1T",
        "outputId": "4768c0dd-18fc-44d9-9f3e-1f34ef826699"
      },
      "execution_count": null,
      "outputs": [
        {
          "output_type": "stream",
          "name": "stdout",
          "text": [
            "Accuracy : 0.9459\n"
          ]
        }
      ]
    }
  ]
}